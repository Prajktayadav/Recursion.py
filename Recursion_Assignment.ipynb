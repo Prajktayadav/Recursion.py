{
  "nbformat": 4,
  "nbformat_minor": 0,
  "metadata": {
    "colab": {
      "provenance": []
    },
    "kernelspec": {
      "name": "python3",
      "display_name": "Python 3"
    },
    "language_info": {
      "name": "python"
    }
  },
  "cells": [
    {
      "cell_type": "code",
      "execution_count": 21,
      "metadata": {
        "id": "IFolplm_Xe-i"
      },
      "outputs": [],
      "source": [
        "#Q.1 Can you explain the logic and working of the Tower of Hanoi algorithm by writing a Java program?\n",
        "#How does the recursion work, and how are the movements of disks between rods accomplished?\n",
        "\n",
        "\n",
        "#Tower of Hanoi is a mathematical puzzle where we have three rods and n disks.\n",
        "#The objective of the puzzle is to move the entire stack to another rod, obeying the following simple rules:\n",
        "#1) Only one disk can be moved at a time.\n",
        "#2) Each move consists of taking the upper disk from one of the stacks and placing it on top of another stack\n",
        "#i.e. a disk can only be moved if it is the uppermost disk on a stack.\n",
        "#3) No disk may be placed on top of a smaller disk.\n",
        "\n",
        "public class TowerOfHanoi\n",
        "{\n",
        "    public static void main(String[] args)\n",
        "    {\n",
        "        int numberOfDisks = 3;\n",
        "        String source = \"A\";\n",
        "        String auxiliary = \"B\";\n",
        "        String destination = \"C\";\n",
        "\n",
        "        moveDisks(numberOfDisks,source,auxiliary,destination);\n",
        "    }\n",
        "\n",
        "    public static void moveDisks(int n,String source,String auxiliary,String destination)\n",
        "    {\n",
        "        if (n == 1)\n",
        "        {\n",
        "            System.out.println(\"Move disk 1 from rod\"+source+\"to rod\"+destination);\n",
        "            return;\n",
        "        }\n",
        "        moveDisks(n-1,source,destination,auxiliary);\n",
        "        System.out.println(\"Move disk\"+n+\"from rod\"+source+\"to rod\"+destination);\n",
        "        moveDisks(n-1,auxiliary,source,destination);\n",
        "    }\n",
        "}"
      ]
    },
    {
      "cell_type": "code",
      "source": [
        "#Q.2 Given two strings word1 and word2, return the minimum number of operations required to convert word1 to word2.\n",
        "\n",
        "\n",
        "def minDistance(word1, word2):\n",
        "    m, n = len(word1), len(word2)\n",
        "    dp = [[0] * (n + 1) for _ in range(m + 1)]\n",
        "\n",
        "    for i in range(m + 1):\n",
        "        dp[i][0] = i\n",
        "    for j in range(n + 1):\n",
        "        dp[0][j] = j\n",
        "\n",
        "    for i in range(1, m + 1):\n",
        "        for j in range(1, n + 1):\n",
        "            if word1[i - 1] == word2[j - 1]:\n",
        "                dp[i][j] = dp[i - 1][j - 1]\n",
        "            else:\n",
        "                dp[i][j] = 1 + min(dp[i - 1][j],\n",
        "                                   dp[i][j - 1],\n",
        "                                   dp[i - 1][j - 1])\n",
        "\n",
        "    return dp[m][n]\n",
        "\n",
        "word1 = \"horse\"\n",
        "word2 = \"ros\"\n",
        "print(minDistance(word1, word2))\n",
        "\n",
        "\n",
        "\n"
      ],
      "metadata": {
        "colab": {
          "base_uri": "https://localhost:8080/"
        },
        "id": "Lqh3hi_cZEZ3",
        "outputId": "d845bd27-b0af-4f08-cfca-e420f4413fca"
      },
      "execution_count": 17,
      "outputs": [
        {
          "output_type": "stream",
          "name": "stdout",
          "text": [
            "3\n"
          ]
        }
      ]
    },
    {
      "cell_type": "code",
      "source": [
        "#Q. 3 Print the max value of the array [ 13, 1, -3, 22, 5].\n",
        "\n",
        "\n",
        "array = [13, 1, -3, 22, 5]\n",
        "max_value = max(array)\n",
        "print(\"Max value in the array:\", max_value)\n",
        "\n"
      ],
      "metadata": {
        "colab": {
          "base_uri": "https://localhost:8080/"
        },
        "id": "m-5g_XsgazYQ",
        "outputId": "4afc2f1f-60c1-42eb-ac1c-244569739390"
      },
      "execution_count": 23,
      "outputs": [
        {
          "output_type": "stream",
          "name": "stdout",
          "text": [
            "Max value in the array: 22\n"
          ]
        }
      ]
    },
    {
      "cell_type": "code",
      "source": [
        "#Q.4.Find the sum of the values of the array [92, 23, 15, -20, 10].\n",
        "\n",
        "\n",
        "array = [92, 23, 15, -20, 10]\n",
        "array_sum = sum(array)\n",
        "print(\"Sum of the values in the array:\", array_sum)\n"
      ],
      "metadata": {
        "colab": {
          "base_uri": "https://localhost:8080/"
        },
        "id": "77e-g6kjpHMy",
        "outputId": "6233da60-4e39-4afc-a3df-605ca0eb3a2b"
      },
      "execution_count": 24,
      "outputs": [
        {
          "output_type": "stream",
          "name": "stdout",
          "text": [
            "Sum of the values in the array: 120\n"
          ]
        }
      ]
    },
    {
      "cell_type": "code",
      "source": [
        "#Q.5.Given a number n. Print if it is an armstrong number or not.An armstrong number is a number if the sum  of every digit in that number raised to the power of total digits in that number is equal to the number.\n",
        "\n",
        "\n",
        "def is_armstrong_number(n):\n",
        "    num_str = str(n)\n",
        "    num_digits = len(num_str)\n",
        "\n",
        "    armstrong_sum = sum(int(digit) ** num_digits for digit in num_str)\n",
        "\n",
        "    return armstrong_sum == n\n",
        "\n",
        "input_number = int(input(\"Enter a number: \"))\n",
        "if is_armstrong_number(input_number):\n",
        "    print(\"Yes\")\n",
        "else:\n",
        "    print(\"No\")\n",
        "\n"
      ],
      "metadata": {
        "colab": {
          "base_uri": "https://localhost:8080/"
        },
        "id": "7HRKX1PdqZDs",
        "outputId": "a8ebfccc-0cad-4097-e22e-1b03bcf87659"
      },
      "execution_count": 27,
      "outputs": [
        {
          "output_type": "stream",
          "name": "stdout",
          "text": [
            "Enter a number: 143\n",
            "No\n"
          ]
        }
      ]
    },
    {
      "cell_type": "code",
      "source": [],
      "metadata": {
        "id": "R6j6dtuKq1dp"
      },
      "execution_count": null,
      "outputs": []
    }
  ]
}